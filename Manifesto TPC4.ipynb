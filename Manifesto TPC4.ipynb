{
 "cells": [
  {
   "cell_type": "markdown",
   "metadata": {},
   "source": [
    "# Manifesto"
   ]
  },
  {
   "cell_type": "markdown",
   "metadata": {},
   "source": [
    "* Identificador:TPC4\n",
    "* Título: Funções sobre frações\n",
    "* Data início:2021-10-26\n",
    "* Data fim:2021-10-31\n",
    "* Supervisor: José Carlos Ramalho, https://www.di.uminho.pt/~jcr/thesup-v2.php\n",
    "* Autor: Miguel Borges de Araújo Carvalho do Vale, A95524\n",
    "* Resumo: Este tpc tem como objetivo treinar as nossas capacidades de criação de algoritmos que organizem frações que poderão ou não ser escolhidas pelo utilizador. Existem nove funções diferentes, sendo que duas delas servem para criar frações e as outras como possíveis escolhas do utilizador depois de criar as frações desejadas.<br>As duas funções, que poderão ser vistas como as mais importantes são as duas últimas, que servem de auxílio à função para gerar frações. A primeira soma todos os valores da lista de funções criada de forma aleatória, sendo o número de frações escolhida pelo utilizador, a segunda recupera a fração com o maior valor numérico dentro da mesma lista.<br>Para formar uma lista de frações foram criadas duas listas com vários valores, sendo que uma das listas compreende os valores dos numeradores e a outra o dos denominadores, sendo o índice destas listas o que liga cada um dos numeradores com os seus respetivos denominadores."
   ]
  },
  {
   "cell_type": "code",
   "execution_count": null,
   "metadata": {},
   "outputs": [],
   "source": []
  }
 ],
 "metadata": {
  "kernelspec": {
   "display_name": "Python 3",
   "language": "python",
   "name": "python3"
  },
  "language_info": {
   "codemirror_mode": {
    "name": "ipython",
    "version": 3
   },
   "file_extension": ".py",
   "mimetype": "text/x-python",
   "name": "python",
   "nbconvert_exporter": "python",
   "pygments_lexer": "ipython3",
   "version": "3.8.3"
  }
 },
 "nbformat": 4,
 "nbformat_minor": 4
}
